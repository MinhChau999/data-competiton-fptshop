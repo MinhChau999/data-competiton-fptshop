{
 "cells": [
  {
   "cell_type": "markdown",
   "id": "d5f1e8be",
   "metadata": {},
   "source": [
    "## 1. Import dataset"
   ]
  },
  {
   "cell_type": "code",
   "execution_count": 8,
   "id": "079bed0a",
   "metadata": {},
   "outputs": [],
   "source": [
    "import pandas as pd\n",
    "import numpy as np\n",
    "import matplotlib.pyplot as plt\n",
    "import glob"
   ]
  },
  {
   "cell_type": "code",
   "execution_count": null,
   "id": "f141601c",
   "metadata": {},
   "outputs": [],
   "source": [
    "# Convert many file .txt to 1 file .txt\n",
    "f = open('totalTxt.txt','w+')\n",
    "f1 = open('totalTxtVal.txt','w+')\n",
    "txt_path_train = glob.glob(\"labels/train/*.txt\")\n",
    "print(len(txt_path_train))\n",
    "txt_path_val = glob.glob(\"labels/val/*.txt\")\n",
    "print(len(txt_path_val))\n",
    "for text_path in txt_path_train:\n",
    "    fileRead=open(text_path,'r')\n",
    "    text = fileRead.readlines()\n",
    "    f.writelines(text)\n",
    "    fileRead.close()\n",
    "\n",
    "for text_path in txt_path_val:\n",
    "    fileRead=open(text_path,'r')\n",
    "    text = fileRead.readlines()\n",
    "    f1.writelines(text)\n",
    "    fileRead.close()\n",
    "f1.close()\n",
    "f.close()"
   ]
  },
  {
   "cell_type": "code",
   "execution_count": 11,
   "id": "9624d25f",
   "metadata": {},
   "outputs": [
    {
     "name": "stdout",
     "output_type": "stream",
     "text": [
      "train\\783_1_4.jpg\n"
     ]
    }
   ],
   "source": [
    "txt_path = glob.glob(\"labels/train/*.txt\")\n",
    "img_path = glob.glob(\"images/train/*.jpg\")\n",
    "\n",
    "for i in range(len(txt_path)):\n",
    "    if txt_path[i].replace('labels/train\\\\','').replace('.txt','') != img_path[i].replace('images/train\\\\','').replace('.jpg',''):\n",
    "        print(img_path[i].split('/')[-1])\n",
    "        break"
   ]
  },
  {
   "cell_type": "code",
   "execution_count": 4,
   "id": "44e7a4a8",
   "metadata": {},
   "outputs": [],
   "source": [
    "df1 = pd.read_csv(\"totalTxt.txt\", sep = \" \", header=None, names=[\"mask\", \"unknow1\",\"unknow2\",\"unknow3\",\"unknow4\"])\n",
    "df2 = pd.read_csv(\"totalTxtval.txt\", sep = \" \", header=None, names=[\"mask\", \"unknow1\",\"unknow2\",\"unknow3\",\"unknow4\"])"
   ]
  },
  {
   "cell_type": "code",
   "execution_count": 2,
   "id": "1a830894",
   "metadata": {},
   "outputs": [
    {
     "name": "stdout",
     "output_type": "stream",
     "text": [
      "385.0\n"
     ]
    }
   ],
   "source": [
    "print(1540*2/8)"
   ]
  },
  {
   "cell_type": "markdown",
   "id": "7a7ea21e",
   "metadata": {},
   "source": [
    "## 2. Dataset overview"
   ]
  },
  {
   "cell_type": "code",
   "execution_count": 10,
   "id": "aeb69c78",
   "metadata": {},
   "outputs": [
    {
     "name": "stdout",
     "output_type": "stream",
     "text": [
      "['Solarize_Light2', '_classic_test_patch', 'bmh', 'classic', 'dark_background', 'fast', 'fivethirtyeight', 'ggplot', 'grayscale', 'seaborn', 'seaborn-bright', 'seaborn-colorblind', 'seaborn-dark', 'seaborn-dark-palette', 'seaborn-darkgrid', 'seaborn-deep', 'seaborn-muted', 'seaborn-notebook', 'seaborn-paper', 'seaborn-pastel', 'seaborn-poster', 'seaborn-talk', 'seaborn-ticks', 'seaborn-white', 'seaborn-whitegrid', 'tableau-colorblind10']\n"
     ]
    }
   ],
   "source": [
    "\n",
    "print(plt.style.available)"
   ]
  },
  {
   "cell_type": "code",
   "execution_count": 6,
   "id": "ea0e843d",
   "metadata": {},
   "outputs": [
    {
     "name": "stdout",
     "output_type": "stream",
     "text": [
      "mask\n",
      "0     753\n",
      "1    1185\n",
      "2     498\n",
      "dtype: int64\n",
      "mask\n",
      "0    140\n",
      "1    211\n",
      "2     63\n",
      "dtype: int64\n"
     ]
    }
   ],
   "source": [
    "countMask1=df1.groupby(\"mask\").size()\n",
    "countMask2=df2.groupby(\"mask\").size()\n",
    "print(countMask1)\n",
    "print(countMask2)"
   ]
  },
  {
   "cell_type": "code",
   "execution_count": 7,
   "id": "dd1e3f6d",
   "metadata": {},
   "outputs": [
    {
     "data": {
      "image/png": "[encoded data removed]",
      "text/plain": [
       "<Figure size 432x288 with 1 Axes>"
      ]
     },
     "metadata": {
      "needs_background": "light"
     },
     "output_type": "display_data"
    },
    {
     "data": {
      "image/png": "[encoded data removed]",
      "text/plain": [
       "<Figure size 432x288 with 1 Axes>"
      ]
     },
     "metadata": {},
     "output_type": "display_data"
    }
   ],
   "source": [
    "plt.bar(x = ['No-Mask', 'Mask', 'False-Mask'], height = [countMask1[0],countMask1[1],countMask1[2]])\n",
    "plt.style.use(['seaborn-ticks'])\n",
    "plt.xlabel('Train')\n",
    "plt.show()\n",
    "plt.bar(x = ['No-Mask', 'Mask', 'False-Mask'], height = [countMask2[0],countMask2[1],countMask2[2]])\n",
    "plt.xlabel('Val')\n",
    "plt.show()"
   ]
  }
 ],
 "metadata": {
  "kernelspec": {
   "display_name": "Python 3",
   "language": "python",
   "name": "python3"
  },
  "language_info": {
   "codemirror_mode": {
    "name": "ipython",
    "version": 3
   },
   "file_extension": ".py",
   "mimetype": "text/x-python",
   "name": "python",
   "nbconvert_exporter": "python",
   "pygments_lexer": "ipython3",
   "version": "3.8.5"
  }
 },
 "nbformat": 4,
 "nbformat_minor": 5
}
