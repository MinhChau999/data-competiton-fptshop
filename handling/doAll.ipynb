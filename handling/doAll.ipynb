{
 "cells": [
  {
   "cell_type": "code",
   "execution_count": 6,
   "metadata": {},
   "outputs": [],
   "source": [
    "# import libraries\n",
    "import os\n",
    "import glob\n",
    "import imgaug.augmenters as iaa\n",
    "import cv2\n",
    "from load_aug import _load_augmentation_aug"
   ]
  },
  {
   "cell_type": "markdown",
   "metadata": {},
   "source": [
    "# 1. Delete file"
   ]
  },
  {
   "cell_type": "code",
   "execution_count": 5,
   "metadata": {},
   "outputs": [],
   "source": [
    "for j in range(1,8):\n",
    "    path = glob.glob(\"images//train//*_{}.jpg\".format(j))\n",
    "    for i in path:\n",
    "        os.remove(i)"
   ]
  },
  {
   "cell_type": "markdown",
   "metadata": {},
   "source": [
    "# 2. Image Augmetation"
   ]
  },
  {
   "cell_type": "code",
   "execution_count": 23,
   "metadata": {},
   "outputs": [],
   "source": [
    "# 1. Load dataset\n",
    "images = []\n",
    "images_path_txt = open(\"PathNoMaskVal.txt\",'r')\n",
    "images_path = images_path_txt.readlines()\n",
    "for img_path in images_path:\n",
    "    img = cv2.imread(img_path.split('\\n')[0])\n",
    "    images.append(img)\n",
    "\n",
    "# 2. Create augmentation object\n",
    "augmentation = _load_augmentation_aug()\n",
    "for j in range(1,2):\n",
    "    augmented_images = augmentation(images=images)  # images is a list of images\n",
    "\n",
    "        \n",
    "    # 3. Save augmented images\n",
    "\n",
    "    for i in range(int(len(augmented_images)/2)):\n",
    "        images_path[i] = images_path[i].split('\\n')[0]\n",
    "        images_path[i] = images_path[i].replace('images/val\\\\','')\n",
    "        images_path[i] = images_path[i].replace('.jpg','')\n",
    "        cv2.imwrite(\"augNoMaskVal/\" + images_path[i] + \"_1_{}.jpg\".format(j),augmented_images[i]) # _1 is for false mask /& _2 is for no mask"
   ]
  },
  {
   "cell_type": "markdown",
   "metadata": {},
   "source": [
    "# 3. Find image No-Mask and Incorrect-Mask"
   ]
  },
  {
   "cell_type": "code",
   "execution_count": 14,
   "metadata": {},
   "outputs": [
    {
     "name": "stdout",
     "output_type": "stream",
     "text": [
      "labels/val\\794.txt\n",
      "labels/val\\795.txt\n",
      "labels/val\\799.txt\n",
      "labels/val\\800.txt\n",
      "labels/val\\801.txt\n",
      "labels/val\\803.txt\n",
      "labels/val\\804.txt\n",
      "labels/val\\805.txt\n",
      "labels/val\\806.txt\n",
      "labels/val\\807.txt\n",
      "labels/val\\808.txt\n",
      "labels/val\\809.txt\n",
      "labels/val\\814.txt\n",
      "labels/val\\816.txt\n",
      "labels/val\\817.txt\n",
      "labels/val\\818.txt\n",
      "labels/val\\819.txt\n",
      "labels/val\\821.txt\n",
      "labels/val\\822.txt\n",
      "labels/val\\827.txt\n",
      "labels/val\\836.txt\n",
      "labels/val\\838.txt\n",
      "labels/val\\839.txt\n",
      "labels/val\\843.txt\n",
      "labels/val\\846.txt\n",
      "labels/val\\848.txt\n",
      "labels/val\\852.txt\n",
      "labels/val\\856.txt\n",
      "labels/val\\857.txt\n",
      "labels/val\\858.txt\n",
      "labels/val\\860.txt\n",
      "labels/val\\861.txt\n",
      "labels/val\\862.txt\n",
      "labels/val\\863.txt\n",
      "labels/val\\865.txt\n",
      "labels/val\\866.txt\n",
      "labels/val\\867.txt\n",
      "labels/val\\871.txt\n",
      "labels/val\\873.txt\n",
      "labels/val\\876.txt\n",
      "labels/val\\877.txt\n",
      "labels/val\\879.txt\n",
      "labels/val\\884.txt\n",
      "labels/val\\885.txt\n",
      "labels/val\\886.txt\n",
      "labels/val\\887.txt\n",
      "labels/val\\888.txt\n",
      "labels/val\\889.txt\n",
      "labels/val\\890.txt\n",
      "labels/val\\894.txt\n",
      "labels/val\\897.txt\n",
      "labels/val\\898.txt\n",
      "labels/val\\905.txt\n",
      "labels/val\\906.txt\n",
      "labels/val\\908.txt\n",
      "labels/val\\909.txt\n",
      "labels/val\\910.txt\n",
      "labels/val\\911.txt\n",
      "labels/val\\915.txt\n",
      "labels/val\\916.txt\n",
      "labels/val\\918.txt\n",
      "labels/val\\919.txt\n",
      "labels/val\\920.txt\n",
      "labels/val\\921.txt\n",
      "labels/val\\922.txt\n",
      "labels/val\\923.txt\n",
      "labels/val\\925.txt\n",
      "labels/val\\926.txt\n",
      "labels/val\\927.txt\n",
      "labels/val\\928.txt\n",
      "labels/val\\937.txt\n",
      "labels/val\\938.txt\n",
      "labels/val\\939.txt\n",
      "labels/val\\940.txt\n",
      "labels/val\\943.txt\n",
      "labels/val\\944.txt\n",
      "labels/val\\945.txt\n",
      "labels/val\\946.txt\n",
      "labels/val\\947.txt\n",
      "labels/val\\948.txt\n",
      "labels/val\\952.txt\n",
      "labels/val\\953.txt\n",
      "labels/val\\955.txt\n",
      "labels/val\\957.txt\n",
      "labels/val\\959.txt\n",
      "labels/val\\960.txt\n",
      "labels/val\\965.txt\n",
      "labels/val\\967.txt\n",
      "labels/val\\968.txt\n",
      "labels/val\\970.txt\n",
      "labels/val\\972.txt\n",
      "labels/val\\973.txt\n",
      "labels/val\\975.txt\n",
      "labels/val\\976.txt\n"
     ]
    }
   ],
   "source": [
    "fNoMask = open('FileNoMaskVal.txt','w+')\n",
    "fFalseMask = open('FileFalseMaskVal.txt','w+')\n",
    "txt_path = glob.glob(\"labels/val/*.txt\")\n",
    "for text_path in txt_path:\n",
    "    fileRead=open(text_path,'r')\n",
    "    text = fileRead.readlines()\n",
    "    for i in text:\n",
    "        if(int(i[0])==0):\n",
    "            fNoMask.write(text_path + \"\\n\")\n",
    "            print(text_path)\n",
    "            break\n",
    "        if(int(i[0])==2):\n",
    "            fFalseMask.write(text_path+ \"\\n\")\n",
    "            print(text_path)\n",
    "            break\n",
    "    fileRead.close()\n",
    "fFalseMask.close()\n",
    "fNoMask.close()\n"
   ]
  },
  {
   "cell_type": "code",
   "execution_count": 15,
   "metadata": {},
   "outputs": [],
   "source": [
    "# mở file cần sửa\n",
    "fNoMask = open('FileNoMaskVal.txt','r+')\n",
    "fFalseMask = open('FileFalseMaskVal.txt','r+')\n",
    "\n",
    "pNoMask = open('PathNoMaskVal.txt','w+')\n",
    "pFalseMask = open('PathFalseMaskVal.txt','w+')\n",
    "\n",
    "# sửa lại đường dẫn\n",
    "text1 = fNoMask.readlines()\n",
    "text2 = fFalseMask.readlines()\n",
    "for i in text1:\n",
    "    # viết lại đường dẫn\n",
    "    i = i.replace('labels/','images/')\n",
    "    i = i.replace('txt','jpg')\n",
    "    pNoMask.write(i)\n",
    "for i in text2:\n",
    "    i = i.replace('labels/','images/')\n",
    "    i = i.replace('txt','jpg')\n",
    "    pFalseMask.write(i)\n",
    "\n",
    "fNoMask.close()\n",
    "fFalseMask.close()\n",
    "pNoMask.close()\n",
    "pFalseMask.close()"
   ]
  }
 ],
 "metadata": {
  "interpreter": {
   "hash": "034ad714f90f4472e1d5d2940fe387ac5b567fec61759edd1fa2b93e59cfa992"
  },
  "kernelspec": {
   "display_name": "Python 3.8.5 64-bit ('base': conda)",
   "language": "python",
   "name": "python3"
  },
  "language_info": {
   "codemirror_mode": {
    "name": "ipython",
    "version": 3
   },
   "file_extension": ".py",
   "mimetype": "text/x-python",
   "name": "python",
   "nbconvert_exporter": "python",
   "pygments_lexer": "ipython3",
   "version": "3.8.5"
  },
  "orig_nbformat": 4
 },
 "nbformat": 4,
 "nbformat_minor": 2
}
